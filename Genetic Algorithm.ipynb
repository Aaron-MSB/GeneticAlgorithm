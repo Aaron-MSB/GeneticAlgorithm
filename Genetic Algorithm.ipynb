{
 "cells": [
  {
   "cell_type": "code",
   "execution_count": null,
   "metadata": {
    "colab": {
     "base_uri": "https://localhost:8080/",
     "height": 35
    },
    "executionInfo": {
     "elapsed": 917,
     "status": "ok",
     "timestamp": 1691005744566,
     "user": {
      "displayName": "Masuba Aaron",
      "userId": "16431486090525848491"
     },
     "user_tz": -360
    },
    "id": "hnLoPhhrRWwX",
    "outputId": "24d00774-b8c8-4414-bbe2-c5b2a1c5ee25"
   },
   "outputs": [
    {
     "data": {
      "application/vnd.google.colaboratory.intrinsic+json": {
       "type": "string"
      },
      "text/plain": [
       "'\\nName: Masuba Aaron\\nStudent ID: 21121017\\nEEE472L AS02\\n'"
      ]
     },
     "execution_count": 15,
     "metadata": {},
     "output_type": "execute_result"
    }
   ],
   "source": [
    "\"\"\"\n",
    "Name: Masuba Aaron\n",
    "Student ID: 21121017\n",
    "EEE472L AS02\n",
    "\"\"\""
   ]
  },
  {
   "cell_type": "code",
   "execution_count": 7,
   "metadata": {
    "colab": {
     "base_uri": "https://localhost:8080/",
     "height": 140
    },
    "executionInfo": {
     "elapsed": 9,
     "status": "error",
     "timestamp": 1691262269613,
     "user": {
      "displayName": "Masuba Aaron",
      "userId": "16431486090525848491"
     },
     "user_tz": -360
    },
    "id": "IN9NKSNXSGE5",
    "outputId": "0dff47ef-807a-4289-8dbb-1b4fecb274f0"
   },
   "outputs": [
    {
     "name": "stdout",
     "output_type": "stream",
     "text": [
      "['Tamim', 'Shoumyo', 'Shakib', 'Afif', 'Mushfiq', 'Liton', 'Mahmudullah', 'Shanto']\n",
      "10101110\n"
     ]
    }
   ],
   "source": [
    "import random as rd\n",
    "import math\n",
    "\n",
    "class GeneticAlgorithm:\n",
    "    def __init__(self, run_pair, run_target):\n",
    "\n",
    "        self.initial_run_pair = run_pair\n",
    "        self.goal = run_target\n",
    "        self.population = None\n",
    "        self.population_size = 20\n",
    "        self.max_fitness = math.inf\n",
    "\n",
    "        self.fittest_individual = False\n",
    "        self.generation = 1\n",
    "        self.threshold_guard = 300\n",
    "\n",
    "\n",
    "    def finding_final_combination(self):\n",
    "        self.population = [[rd.randint(0, 1) for j in range(len(self.initial_run_pair))] for i in range(self.population_size)]\n",
    "\n",
    "        while self.generation < self.threshold_guard:\n",
    "            self.select_fit()\n",
    "\n",
    "            if self.fittest_individual:\n",
    "                print([self.initial_run_pair[i][0] for i in range(len(self.initial_run_pair))])\n",
    "                print(''.join(map(str,self.fittest_individual)))\n",
    "                return\n",
    "\n",
    "            l, r = 0, len(self.population) // 2 - 1\n",
    "            while l < r:\n",
    "                offsprings = self.crossover_func(self.population[l], self.population[r])\n",
    "                self.population[l], self.population[r] = offsprings[0], offsprings[1]\n",
    "                l += 1\n",
    "                r -= 1\n",
    "\n",
    "            start_second_half = len(self.population) // 2\n",
    "            for i in range(start_second_half, len(self.population)):\n",
    "                self.population[i] = [rd.randint(0, 1) for j in range(len(self.initial_run_pair))]\n",
    "\n",
    "            self.mutation_func()\n",
    "            self.generation += 1\n",
    "\n",
    "        print([self.initial_run_pair[i][0] for i in range(len(self.initial_run_pair))])\n",
    "        print(\"-1\")\n",
    "\n",
    "\n",
    "#CREATING FITNESS, SELECTION, CROSSOVER AND MUTATION FUNCIONS\n",
    "\n",
    "    #Fitness\n",
    "    def fitness_func(self):\n",
    "        fitness_list = []\n",
    "\n",
    "        for data in self.population: \n",
    "            total_run = 0\n",
    "\n",
    "            for i in range(len(data)):\n",
    "                total_run += data[i] * int(self.initial_run_pair[i][1]) \n",
    "            difference = abs(self.goal - total_run)\n",
    "\n",
    "            if difference == 0:\n",
    "                self.fittest_individual = data\n",
    "                fitness_list.append(-math.inf) \n",
    "            else:\n",
    "                fitness_list.append(1/difference)\n",
    "        return fitness_list\n",
    "\n",
    "    def select_fit(self):\n",
    "        fitness_list = self.fitness_func()\n",
    "        population_on_fitness = [i for _, i in sorted(zip(fitness_list, self.population))]\n",
    "        self.population = population_on_fitness \n",
    "        \n",
    "    #Crossover\n",
    "    def crossover_func(self, p1, p2):\n",
    "        new_fit_data = [[], []]\n",
    "\n",
    "        start = rd.randint(0, len(p1)//2)\n",
    "        end = start + len(p1) // 2\n",
    "        for i in range(len(p1)):\n",
    "            if start <= i < end:\n",
    "                new_fit_data[0].append(p1[i])\n",
    "                new_fit_data[1].append(p2[i])\n",
    "            else:\n",
    "                new_fit_data[0].append(p2[i])\n",
    "                new_fit_data[1].append(p1[i])\n",
    "        return new_fit_data\n",
    "\n",
    "    #Mutation\n",
    "    def mutation_func(self):\n",
    "        mutation_indx = [rd.randint(0, len(self.population) - 1) for z in range(6)]\n",
    "\n",
    "        for m in mutation_indx:\n",
    "            mutation_val_change = rd.randint(0, len(self.initial_run_pair) - 1)\n",
    "            if self.population[m][mutation_val_change] == 0:\n",
    "                self.population[m][mutation_val_change] = 1\n",
    "            else:\n",
    "                self.population[m][mutation_val_change] = 0\n",
    "\n",
    "#Reading and Processing Input File\n",
    "def read_input_file(lines):\n",
    "    player = []\n",
    "    player_count = []\n",
    "    all_player = []\n",
    "    \n",
    "    \n",
    "\n",
    "    for s in range(len(lines)):\n",
    "        \n",
    "        if s == 0:\n",
    "            f_line = lines[0]\n",
    "            f_lineList = f_line.rstrip().split()\n",
    "            n, run_target = int(f_lineList[0]), int(f_lineList[1])\n",
    "        else:\n",
    "            string_run = lines[s]\n",
    "            player_count.append(string_run)\n",
    "\n",
    "    for p in player_count:\n",
    "        player, player_count = p.rstrip().split()\n",
    "        all_player.append((player, int(player_count)))\n",
    "    return all_player, run_target\n",
    "\n",
    "with open(\"C://Users//USER//Desktop//EEE472 labs aaron//input2.txt\", \"r\") as f:\n",
    "      lines = f.readlines()\n",
    "initial_run_pair, run_target = read_input_file(lines)\n",
    "\n",
    "genetic_algorithm = GeneticAlgorithm(initial_run_pair, run_target)\n",
    "genetic_algorithm.finding_final_combination()"
   ]
  },
  {
   "cell_type": "code",
   "execution_count": null,
   "metadata": {},
   "outputs": [],
   "source": []
  }
 ],
 "metadata": {
  "colab": {
   "authorship_tag": "ABX9TyOlrH/Gn7gWr2hCR5XgQ+lz",
   "provenance": []
  },
  "kernelspec": {
   "display_name": "Python 3 (ipykernel)",
   "language": "python",
   "name": "python3"
  },
  "language_info": {
   "codemirror_mode": {
    "name": "ipython",
    "version": 3
   },
   "file_extension": ".py",
   "mimetype": "text/x-python",
   "name": "python",
   "nbconvert_exporter": "python",
   "pygments_lexer": "ipython3",
   "version": "3.10.9"
  }
 },
 "nbformat": 4,
 "nbformat_minor": 1
}
